{
 "cells": [
  {
   "cell_type": "markdown",
   "metadata": {},
   "source": [
    "# Plotting with pandas\n",
    "\n",
    "It is time to learn how to plot with our favorite data wrangling tool : pandas 🐼.\n",
    "\n",
    "We will be using the open data powering https://www.rte-france.com/eco2mix website. \n",
    "\n",
    "The pre-processing of the data has been already done for you. All you need is to learn how read pickles from pandas.\n",
    "\n",
    "![pickles](https://static.wikia.nocookie.net/rickandmorty/images/4/41/Pickle_rick_transparent_edgetrimmed.png)\n"
   ]
  },
  {
   "cell_type": "markdown",
   "metadata": {},
   "source": [
    "## Exercise - setup our (plotting) environnemnt"
   ]
  },
  {
   "cell_type": "code",
   "execution_count": 1,
   "metadata": {},
   "outputs": [],
   "source": [
    "# load pandas, matplotlib and setup your environment for bigger figures by default (check matplotlib's \"rcParams\")"
   ]
  },
  {
   "cell_type": "markdown",
   "metadata": {},
   "source": [
    "## Exercise : load the data from pickle file"
   ]
  },
  {
   "cell_type": "code",
   "execution_count": 3,
   "metadata": {},
   "outputs": [],
   "source": [
    "# Load from the pickle file eco2mix\n",
    "df = pd.read_pickle(\"data/eco2mix.pkl\")"
   ]
  },
  {
   "cell_type": "code",
   "execution_count": 3,
   "metadata": {},
   "outputs": [
    {
     "data": {
      "text/html": [
       "<div>\n",
       "<style scoped>\n",
       "    .dataframe tbody tr th:only-of-type {\n",
       "        vertical-align: middle;\n",
       "    }\n",
       "\n",
       "    .dataframe tbody tr th {\n",
       "        vertical-align: top;\n",
       "    }\n",
       "\n",
       "    .dataframe thead th {\n",
       "        text-align: right;\n",
       "    }\n",
       "</style>\n",
       "<table border=\"1\" class=\"dataframe\">\n",
       "  <thead>\n",
       "    <tr style=\"text-align: right;\">\n",
       "      <th></th>\n",
       "      <th>Périmètre</th>\n",
       "      <th>Consommation</th>\n",
       "      <th>Thermique</th>\n",
       "      <th>Nucléaire</th>\n",
       "      <th>Eolien</th>\n",
       "      <th>Solaire</th>\n",
       "      <th>Hydraulique</th>\n",
       "      <th>Pompage</th>\n",
       "      <th>Bioénergies</th>\n",
       "      <th>Ech. physiques</th>\n",
       "    </tr>\n",
       "    <tr>\n",
       "      <th>DateTime</th>\n",
       "      <th></th>\n",
       "      <th></th>\n",
       "      <th></th>\n",
       "      <th></th>\n",
       "      <th></th>\n",
       "      <th></th>\n",
       "      <th></th>\n",
       "      <th></th>\n",
       "      <th></th>\n",
       "      <th></th>\n",
       "    </tr>\n",
       "  </thead>\n",
       "  <tbody>\n",
       "    <tr>\n",
       "      <th>2015-10-02 05:00:00</th>\n",
       "      <td>Ile-de-France</td>\n",
       "      <td>5580.0</td>\n",
       "      <td>-4.0</td>\n",
       "      <td>NaN</td>\n",
       "      <td>7.0</td>\n",
       "      <td>0.0</td>\n",
       "      <td>8.0</td>\n",
       "      <td>NaN</td>\n",
       "      <td>143.0</td>\n",
       "      <td>5426.0</td>\n",
       "    </tr>\n",
       "    <tr>\n",
       "      <th>2016-06-10 20:45:00</th>\n",
       "      <td>Grand-Est</td>\n",
       "      <td>NaN</td>\n",
       "      <td>NaN</td>\n",
       "      <td>NaN</td>\n",
       "      <td>NaN</td>\n",
       "      <td>NaN</td>\n",
       "      <td>NaN</td>\n",
       "      <td>NaN</td>\n",
       "      <td>NaN</td>\n",
       "      <td>NaN</td>\n",
       "    </tr>\n",
       "    <tr>\n",
       "      <th>2016-12-06 13:15:00</th>\n",
       "      <td>Pays-de-la-Loire</td>\n",
       "      <td>NaN</td>\n",
       "      <td>NaN</td>\n",
       "      <td>NaN</td>\n",
       "      <td>NaN</td>\n",
       "      <td>NaN</td>\n",
       "      <td>NaN</td>\n",
       "      <td>NaN</td>\n",
       "      <td>NaN</td>\n",
       "      <td>NaN</td>\n",
       "    </tr>\n",
       "    <tr>\n",
       "      <th>2016-12-31 01:30:00</th>\n",
       "      <td>Occitanie</td>\n",
       "      <td>5545.0</td>\n",
       "      <td>65.0</td>\n",
       "      <td>2486.0</td>\n",
       "      <td>119.0</td>\n",
       "      <td>0.0</td>\n",
       "      <td>935.0</td>\n",
       "      <td>-215.0</td>\n",
       "      <td>90.0</td>\n",
       "      <td>2064.0</td>\n",
       "    </tr>\n",
       "    <tr>\n",
       "      <th>2017-11-26 23:45:00</th>\n",
       "      <td>Ile-de-France</td>\n",
       "      <td>NaN</td>\n",
       "      <td>NaN</td>\n",
       "      <td>NaN</td>\n",
       "      <td>NaN</td>\n",
       "      <td>NaN</td>\n",
       "      <td>NaN</td>\n",
       "      <td>NaN</td>\n",
       "      <td>NaN</td>\n",
       "      <td>NaN</td>\n",
       "    </tr>\n",
       "    <tr>\n",
       "      <th>2016-07-03 22:15:00</th>\n",
       "      <td>Bretagne</td>\n",
       "      <td>NaN</td>\n",
       "      <td>NaN</td>\n",
       "      <td>NaN</td>\n",
       "      <td>NaN</td>\n",
       "      <td>NaN</td>\n",
       "      <td>NaN</td>\n",
       "      <td>NaN</td>\n",
       "      <td>NaN</td>\n",
       "      <td>NaN</td>\n",
       "    </tr>\n",
       "    <tr>\n",
       "      <th>2014-03-14 03:30:00</th>\n",
       "      <td>PACA</td>\n",
       "      <td>4647.0</td>\n",
       "      <td>233.0</td>\n",
       "      <td>NaN</td>\n",
       "      <td>0.0</td>\n",
       "      <td>0.0</td>\n",
       "      <td>1321.0</td>\n",
       "      <td>0.0</td>\n",
       "      <td>66.0</td>\n",
       "      <td>3026.0</td>\n",
       "    </tr>\n",
       "    <tr>\n",
       "      <th>2015-03-02 18:45:00</th>\n",
       "      <td>Bretagne</td>\n",
       "      <td>NaN</td>\n",
       "      <td>NaN</td>\n",
       "      <td>NaN</td>\n",
       "      <td>NaN</td>\n",
       "      <td>NaN</td>\n",
       "      <td>NaN</td>\n",
       "      <td>NaN</td>\n",
       "      <td>NaN</td>\n",
       "      <td>NaN</td>\n",
       "    </tr>\n",
       "    <tr>\n",
       "      <th>2016-10-08 22:15:00</th>\n",
       "      <td>Normandie</td>\n",
       "      <td>NaN</td>\n",
       "      <td>NaN</td>\n",
       "      <td>NaN</td>\n",
       "      <td>NaN</td>\n",
       "      <td>NaN</td>\n",
       "      <td>NaN</td>\n",
       "      <td>NaN</td>\n",
       "      <td>NaN</td>\n",
       "      <td>NaN</td>\n",
       "    </tr>\n",
       "    <tr>\n",
       "      <th>2013-08-03 21:45:00</th>\n",
       "      <td>Occitanie</td>\n",
       "      <td>NaN</td>\n",
       "      <td>NaN</td>\n",
       "      <td>NaN</td>\n",
       "      <td>NaN</td>\n",
       "      <td>NaN</td>\n",
       "      <td>NaN</td>\n",
       "      <td>NaN</td>\n",
       "      <td>NaN</td>\n",
       "      <td>NaN</td>\n",
       "    </tr>\n",
       "  </tbody>\n",
       "</table>\n",
       "</div>"
      ],
      "text/plain": [
       "                            Périmètre  Consommation  Thermique  Nucléaire  \\\n",
       "DateTime                                                                    \n",
       "2015-10-02 05:00:00     Ile-de-France        5580.0       -4.0        NaN   \n",
       "2016-06-10 20:45:00         Grand-Est           NaN        NaN        NaN   \n",
       "2016-12-06 13:15:00  Pays-de-la-Loire           NaN        NaN        NaN   \n",
       "2016-12-31 01:30:00         Occitanie        5545.0       65.0     2486.0   \n",
       "2017-11-26 23:45:00     Ile-de-France           NaN        NaN        NaN   \n",
       "2016-07-03 22:15:00          Bretagne           NaN        NaN        NaN   \n",
       "2014-03-14 03:30:00              PACA        4647.0      233.0        NaN   \n",
       "2015-03-02 18:45:00          Bretagne           NaN        NaN        NaN   \n",
       "2016-10-08 22:15:00         Normandie           NaN        NaN        NaN   \n",
       "2013-08-03 21:45:00         Occitanie           NaN        NaN        NaN   \n",
       "\n",
       "                     Eolien  Solaire  Hydraulique  Pompage  Bioénergies  \\\n",
       "DateTime                                                                  \n",
       "2015-10-02 05:00:00     7.0      0.0          8.0      NaN        143.0   \n",
       "2016-06-10 20:45:00     NaN      NaN          NaN      NaN          NaN   \n",
       "2016-12-06 13:15:00     NaN      NaN          NaN      NaN          NaN   \n",
       "2016-12-31 01:30:00   119.0      0.0        935.0   -215.0         90.0   \n",
       "2017-11-26 23:45:00     NaN      NaN          NaN      NaN          NaN   \n",
       "2016-07-03 22:15:00     NaN      NaN          NaN      NaN          NaN   \n",
       "2014-03-14 03:30:00     0.0      0.0       1321.0      0.0         66.0   \n",
       "2015-03-02 18:45:00     NaN      NaN          NaN      NaN          NaN   \n",
       "2016-10-08 22:15:00     NaN      NaN          NaN      NaN          NaN   \n",
       "2013-08-03 21:45:00     NaN      NaN          NaN      NaN          NaN   \n",
       "\n",
       "                     Ech. physiques  \n",
       "DateTime                             \n",
       "2015-10-02 05:00:00          5426.0  \n",
       "2016-06-10 20:45:00             NaN  \n",
       "2016-12-06 13:15:00             NaN  \n",
       "2016-12-31 01:30:00          2064.0  \n",
       "2017-11-26 23:45:00             NaN  \n",
       "2016-07-03 22:15:00             NaN  \n",
       "2014-03-14 03:30:00          3026.0  \n",
       "2015-03-02 18:45:00             NaN  \n",
       "2016-10-08 22:15:00             NaN  \n",
       "2013-08-03 21:45:00             NaN  "
      ]
     },
     "execution_count": 3,
     "metadata": {},
     "output_type": "execute_result"
    }
   ],
   "source": [
    "df.sample(10) # Expected Results"
   ]
  },
  {
   "cell_type": "markdown",
   "metadata": {},
   "source": [
    "# Plotting with Matplotlib\n",
    "\n",
    "\n",
    "##  Exercise -  Pie chart \n",
    "\n",
    "Choose a year in the data, and plot the share for each of the different energy sources.\n",
    "\n",
    "_Going further : potential drawbacks of this kind of plot. See : https://www.surveygizmo.com/resources/blog/pie-chart-or-bar-graph/_"
   ]
  },
  {
   "cell_type": "code",
   "execution_count": 1,
   "metadata": {},
   "outputs": [],
   "source": [
    "# Choose a year in the data, and plot the share for each of the different energy sources.\n"
   ]
  },
  {
   "cell_type": "markdown",
   "metadata": {},
   "source": [
    "![example](./img/pie.png)"
   ]
  },
  {
   "cell_type": "markdown",
   "metadata": {},
   "source": [
    "## Exercise :  Horizontal Bar\n",
    "\n",
    "Use the same data used to produce the pie chart, but this time use an horizontal bar.\n",
    "\n",
    "_Tip: When possible, try to replace pie charts with horizontal bar_"
   ]
  },
  {
   "cell_type": "code",
   "execution_count": null,
   "metadata": {},
   "outputs": [],
   "source": [
    "# When thinking about pie charts, give a try to horizontal bars."
   ]
  },
  {
   "cell_type": "markdown",
   "metadata": {},
   "source": [
    "## Exercise : Area chart\n",
    "\n",
    "Explore data trends thanks to an area chart."
   ]
  },
  {
   "cell_type": "code",
   "execution_count": null,
   "metadata": {},
   "outputs": [],
   "source": [
    "# Explore trends"
   ]
  },
  {
   "cell_type": "markdown",
   "metadata": {},
   "source": [
    "## Exercise : Scatter Plot\n",
    "\n",
    "Scatter plots are helpful to put in evidence relationships between two variables. Can you find a data relationships and make it visible with a plot ?\n",
    "\n",
    "_Bonus: try seaborn joint plots_"
   ]
  },
  {
   "cell_type": "code",
   "execution_count": null,
   "metadata": {},
   "outputs": [],
   "source": [
    "# Explore variables relationships with scatter plot"
   ]
  },
  {
   "cell_type": "markdown",
   "metadata": {},
   "source": [
    "# Plotting with Plotly (optional)\n",
    "\n",
    "In order to go further you can learn an alternative plot library: Plotly.\n",
    "\n",
    "Two possible ways of using plotly with pandas :\n",
    " - https://plotly.com/python/pandas-backend/\n",
    " - https://github.com/santosjorge/cufflinks\n",
    " \n",
    "Do previous exercises with plotly. \n",
    "\n",
    "Which library do you prefer ? Which plotly integration works better ?"
   ]
  },
  {
   "cell_type": "code",
   "execution_count": null,
   "metadata": {},
   "outputs": [],
   "source": []
  }
 ],
 "metadata": {
  "kernelspec": {
   "display_name": "Python 3 (ipykernel)",
   "language": "python",
   "name": "python3"
  },
  "language_info": {
   "codemirror_mode": {
    "name": "ipython",
    "version": 3
   },
   "file_extension": ".py",
   "mimetype": "text/x-python",
   "name": "python",
   "nbconvert_exporter": "python",
   "pygments_lexer": "ipython3",
   "version": "3.8.6"
  },
  "toc": {
   "base_numbering": 1,
   "nav_menu": {},
   "number_sections": true,
   "sideBar": true,
   "skip_h1_title": false,
   "title_cell": "Table of Contents",
   "title_sidebar": "Contents",
   "toc_cell": false,
   "toc_position": {},
   "toc_section_display": true,
   "toc_window_display": true
  }
 },
 "nbformat": 4,
 "nbformat_minor": 4
}
